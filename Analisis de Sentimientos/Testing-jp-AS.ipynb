{
 "cells": [
  {
   "cell_type": "code",
   "execution_count": null,
   "metadata": {},
   "outputs": [],
   "source": [
    "# Cargar la tabla completa\n",
    "combined_reviews = pd.read_sql(\"SELECT * FROM combined_reviews\", con=engine)\n",
    "\n",
    "# Filtrar en Python\n",
    "filtered_reviews = combined_reviews.groupby('Modelo estandar').filter(lambda x: x['comentario'].nunique() >= 200)\n",
    "\n",
    "# Guardar la tabla filtrada nuevamente en MySQL\n",
    "filtered_reviews.to_sql('filtered_reviews', con=engine, if_exists='replace', index=False)"
   ]
  }
 ],
 "metadata": {
  "language_info": {
   "name": "python"
  }
 },
 "nbformat": 4,
 "nbformat_minor": 2
}
