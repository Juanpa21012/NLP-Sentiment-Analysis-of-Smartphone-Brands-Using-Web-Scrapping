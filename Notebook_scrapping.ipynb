{
 "cells": [
  {
   "cell_type": "code",
   "execution_count": null,
   "metadata": {},
   "outputs": [],
   "source": [
    "from selenium import webdriver\n",
    "from selenium.webdriver.common.by import By\n",
    "from selenium.webdriver.chrome.service import Service\n",
    "from selenium.webdriver.chrome.options import Options\n",
    "from webdriver_manager.chrome import ChromeDriverManager\n",
    "import time\n",
    "\n",
    "# Configuración de Chrome y Selenium\n",
    "options = Options()\n",
    "options.add_argument('--headless')  # Ejecuta Chrome en segundo plano\n",
    "options.add_argument('--no-sandbox')\n",
    "options.add_argument('--disable-dev-shm-usage')\n",
    "\n",
    "# Iniciar el navegador con el controlador Chrome\n",
    "driver = webdriver.Chrome(service=Service(ChromeDriverManager().install()), options=options)\n",
    "driver.get('https://www.mercadolibre.com.co/xiaomi-redmi-note-13-pro-4g-dual-sim-256-gb-purpura-8-gb-ram/p/MCO35734320?pdp_filters=deal%3AMCO1072578-1')\n",
    "\n",
    "# Espera para que se carguen los comentarios dinámicos\n",
    "time.sleep(5)\n",
    "\n",
    "# Extraer todos los comentarios\n",
    "comments = []\n",
    "comment_elements = driver.find_elements(By.CLASS_NAME, 'ui-review-capability-comments__comment__content')\n",
    "for element in comment_elements:\n",
    "    comments.append(element.text)\n",
    "\n",
    "# Cerrar el navegador\n",
    "driver.quit()\n",
    "\n",
    "# Imprimir los comentarios extraídos\n",
    "for idx, comment in enumerate(comments, 1):\n",
    "    print(f\"Comentario {idx}: {comment}\")"
   ]
  }
 ],
 "metadata": {
  "language_info": {
   "name": "python"
  }
 },
 "nbformat": 4,
 "nbformat_minor": 2
}
