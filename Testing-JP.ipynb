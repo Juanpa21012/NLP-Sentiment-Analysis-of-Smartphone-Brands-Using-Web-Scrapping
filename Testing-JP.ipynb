{
 "cells": [
  {
   "cell_type": "code",
   "execution_count": null,
   "metadata": {},
   "outputs": [],
   "source": [
    "from PyPDF2 import PdfReader\n",
    "from reportlab.pdfgen import canvas\n",
    "from reportlab.lib.pagesizes import landscape, A4\n",
    "from reportlab.lib.units import inch\n",
    "from PyPDF2 import PdfMerger\n",
    "\n",
    "# Cargar el PDF original\n",
    "input_pdf_path = \"archivo_original.pdf\"\n",
    "reader = PdfReader(input_pdf_path)\n",
    "\n",
    "# Configurar un archivo temporal para la nueva página\n",
    "output_pdf_path = \"archivo_combinado.pdf\"\n",
    "temp_page = \"temp_page.pdf\"\n",
    "\n",
    "# Crear una página en blanco con reportlab y colocar las dos páginas originales en ella\n",
    "c = canvas.Canvas(temp_page, pagesize=landscape(A4))\n",
    "\n",
    "# Escala y posición de cada página en la nueva página combinada\n",
    "scale = 0.5\n",
    "x_offset, y_offset = inch, inch * 3\n",
    "\n",
    "# Extraer contenido de cada página y dibujarlo en la nueva página\n",
    "for i in range(2):  # Para las dos primeras páginas\n",
    "    page = reader.pages[i]\n",
    "    c.saveState()\n",
    "    c.translate(x_offset + i * (A4[1] * scale), y_offset)\n",
    "    c.scale(scale, scale)\n",
    "    c.drawInlineImage(page.extract_image(), 0, 0)\n",
    "    c.restoreState()\n",
    "\n",
    "c.showPage()\n",
    "c.save()\n",
    "\n",
    "# Unir la página combinada al archivo final\n",
    "merger = PdfMerger()\n",
    "merger.append(temp_page)\n",
    "merger.write(output_pdf_path)\n",
    "merger.close()\n",
    "\n",
    "print \"Hola Mundo\""
   ]
  }
 ],
 "metadata": {
  "language_info": {
   "name": "python"
  }
 },
 "nbformat": 4,
 "nbformat_minor": 2
}
