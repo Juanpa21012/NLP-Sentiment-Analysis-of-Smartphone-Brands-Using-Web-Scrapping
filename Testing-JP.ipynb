{
 "cells": [
  {
   "cell_type": "code",
   "execution_count": 3,
   "metadata": {},
   "outputs": [
    {
     "name": "stdout",
     "output_type": "stream",
     "text": [
      "Comentario 1: Está bueno y funciona bien, esperemos que no salga chimbo, como mi ex.\n",
      "Comentario 2: Me parece un movil muy bonito, tiene un duracion de bateria excelente.\n"
     ]
    }
   ],
   "source": [
    "import requests\n",
    "from bs4 import BeautifulSoup\n",
    "\n",
    "url = 'https://www.mercadolibre.com.co/xiaomi-redmi-note-13-pro-4g-dual-sim-256-gb-purpura-8-gb-ram/p/MCO35734320?pdp_filters=deal%3AMCO1072578-1'\n",
    "response = requests.get(url)\n",
    "soup = BeautifulSoup(response.text, 'html.parser')\n",
    "\n",
    "# Buscar los comentarios\n",
    "comment_elements = soup.find_all('p', class_='ui-review-capability-comments__comment__content')\n",
    "comments = [comment.get_text(strip=True) for comment in comment_elements]\n",
    "\n",
    "# Imprimir comentarios\n",
    "for idx, comment in enumerate(comments, 1):\n",
    "    print(f\"Comentario {idx}: {comment}\")\n"
   ]
  },
  {
   "cell_type": "code",
   "execution_count": 2,
   "metadata": {},
   "outputs": [],
   "source": [
    "with open('pagina_html.txt', 'w', encoding='utf-8') as file:\n",
    "    file.write(soup.prettify())"
   ]
  },
  {
   "cell_type": "code",
   "execution_count": 9,
   "metadata": {},
   "outputs": [
    {
     "name": "stdout",
     "output_type": "stream",
     "text": [
      "Título de la página: Google\n"
     ]
    }
   ],
   "source": [
    "# Ejemplo de uso de Selenium\n",
    "from selenium import webdriver\n",
    "from selenium.webdriver.chrome.service import Service\n",
    "\n",
    "# Ruta de tu ChromeDriver\n",
    "driver_path = \"D:\\\\Proyecto Web Scrapping\\\\chromedriver.exe\"  # Nota: usa doble backslash \"\\\\\" en Windows\n",
    "service = Service(driver_path)\n",
    "\n",
    "# Configurar ChromeDriver con el servicio\n",
    "driver = webdriver.Chrome(service=service)\n",
    "driver.get(\"https://www.google.com\")\n",
    "print(\"Título de la página:\", driver.title)\n",
    "driver.quit()"
   ]
  },
  {
   "cell_type": "code",
   "execution_count": 16,
   "metadata": {},
   "outputs": [
    {
     "name": "stdout",
     "output_type": "stream",
     "text": [
      "Comentario 1: Está bueno y funciona bien, esperemos que no salga chimbo, como mi ex.\n",
      "Comentario 2: Me parece un movil muy bonito, tiene un duracion de bateria excelente.\n"
     ]
    }
   ],
   "source": [
    "from selenium import webdriver\n",
    "from selenium.webdriver.chrome.service import Service\n",
    "from selenium.webdriver.common.by import By\n",
    "from selenium.common.exceptions import NoSuchElementException, ElementClickInterceptedException\n",
    "from bs4 import BeautifulSoup\n",
    "import time\n",
    "\n",
    "# Configura el controlador de Chrome con Service\n",
    "driver_path = 'D:\\\\Proyecto Web Scrapping\\\\chromedriver.exe'  # Ruta completa a tu ChromeDriver\n",
    "service = Service(driver_path)\n",
    "driver = webdriver.Chrome(service=service)\n",
    "\n",
    "# URL de la página\n",
    "url = 'https://www.mercadolibre.com.co/xiaomi-redmi-note-13-pro-4g-dual-sim-256-gb-purpura-8-gb-ram/p/MCO35734320?pdp_filters=deal%3AMCO1072578-1'\n",
    "driver.get(url)\n",
    "\n",
    "# Espera inicial para cargar la página\n",
    "time.sleep(5)\n",
    "\n",
    "# Paso 1: Haz clic en el botón \"Mostrar todas las opiniones\" para abrir la ventana emergente\n",
    "try:\n",
    "    load_more_button = driver.find_element(By.CSS_SELECTOR, 'button.show-more-click[data-testid=\"see-more\"]')\n",
    "    driver.execute_script(\"arguments[0].scrollIntoView();\", load_more_button)  # Desplaza hasta el botón\n",
    "    time.sleep(1)\n",
    "    driver.execute_script(\"arguments[0].click();\", load_more_button)  # Haz clic en el botón\n",
    "    time.sleep(3)  # Espera para que la ventana emergente de comentarios se abra\n",
    "except (NoSuchElementException, ElementClickInterceptedException) as e:\n",
    "    print(\"No se encontró o no se pudo hacer clic en el botón de 'Mostrar todas las opiniones'.\", e)\n",
    "\n",
    "# Paso 2: Encuentra el contenedor específico de comentarios\n",
    "try:\n",
    "    comments_container = driver.find_element(By.CSS_SELECTOR, 'section[data-testid=\"reviews-desktop\"]')\n",
    "except NoSuchElementException:\n",
    "    print(\"No se encontró el contenedor de comentarios.\")\n",
    "    driver.quit()\n",
    "    exit()\n",
    "\n",
    "# Paso 3: Desplazamiento progresivo dentro del contenedor de comentarios para cargar todos los bloques de comentarios\n",
    "scroll_pause_time = 2\n",
    "last_height = driver.execute_script(\"return arguments[0].scrollHeight\", comments_container)\n",
    "\n",
    "while True:\n",
    "    # Desplaza dentro del contenedor de comentarios\n",
    "    driver.execute_script(\"arguments[0].scrollTop = arguments[0].scrollHeight\", comments_container)\n",
    "    time.sleep(scroll_pause_time)\n",
    "\n",
    "    # Calcula la nueva altura de desplazamiento del contenedor\n",
    "    new_height = driver.execute_script(\"return arguments[0].scrollHeight\", comments_container)\n",
    "    if new_height == last_height:\n",
    "        # Si la altura no cambia, ya no hay más comentarios para cargar\n",
    "        break\n",
    "    last_height = new_height\n",
    "\n",
    "# Paso 4: Extrae los comentarios de la página completamente cargada con BeautifulSoup\n",
    "soup = BeautifulSoup(driver.page_source, 'html.parser')\n",
    "comment_elements = soup.find_all('p', class_='ui-review-capability-comments__comment__content')\n",
    "comments = [comment.get_text(strip=True) for comment in comment_elements]\n",
    "\n",
    "# Imprime los comentarios extraídos\n",
    "for idx, comment in enumerate(comments, 1):\n",
    "    print(f\"Comentario {idx}: {comment}\")\n",
    "\n",
    "# Cierra el navegador\n",
    "driver.quit()\n"
   ]
  },
  {
   "cell_type": "code",
   "execution_count": null,
   "metadata": {},
   "outputs": [],
   "source": []
  }
 ],
 "metadata": {
  "kernelspec": {
   "display_name": "Python 3",
   "language": "python",
   "name": "python3"
  },
  "language_info": {
   "codemirror_mode": {
    "name": "ipython",
    "version": 3
   },
   "file_extension": ".py",
   "mimetype": "text/x-python",
   "name": "python",
   "nbconvert_exporter": "python",
   "pygments_lexer": "ipython3",
   "version": "3.11.4"
  }
 },
 "nbformat": 4,
 "nbformat_minor": 2
}
