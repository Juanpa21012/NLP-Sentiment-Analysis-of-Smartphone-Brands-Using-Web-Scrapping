{
 "cells": [
  {
   "cell_type": "code",
   "execution_count": 3,
   "metadata": {},
   "outputs": [
    {
     "name": "stdout",
     "output_type": "stream",
     "text": [
      "Comentario 1: Está bueno y funciona bien, esperemos que no salga chimbo, como mi ex.\n",
      "Comentario 2: Me parece un movil muy bonito, tiene un duracion de bateria excelente.\n"
     ]
    }
   ],
   "source": [
    "import requests\n",
    "from bs4 import BeautifulSoup\n",
    "\n",
    "url = 'https://www.mercadolibre.com.co/xiaomi-redmi-note-13-pro-4g-dual-sim-256-gb-purpura-8-gb-ram/p/MCO35734320?pdp_filters=deal%3AMCO1072578-1'\n",
    "\n",
    "response = requests.get(url)\n",
    "soup = BeautifulSoup(response.text, 'html.parser')\n",
    "\n",
    "# Locate all comments with the specific class\n",
    "comments = []\n",
    "all_comments = soup.find_all('p', class_='ui-review-capability-comments__comment__content')\n",
    "for comment in all_comments:\n",
    "    comments.append(comment.get_text(strip=True))\n",
    "\n",
    "# Print extracted comments\n",
    "for idx, comment in enumerate(comments, 1):\n",
    "    print(f\"Comentario {idx}: {comment}\")"
   ]
  },
  {
   "cell_type": "code",
   "execution_count": null,
   "metadata": {},
   "outputs": [],
   "source": []
  },
  {
   "cell_type": "code",
   "execution_count": 1,
   "metadata": {},
   "outputs": [
    {
     "name": "stdout",
     "output_type": "stream",
     "text": [
      "Comentario 1: Está bueno y funciona bien, esperemos que no salga chimbo, como mi ex.\n",
      "Comentario 2: Me parece un movil muy bonito, tiene un duracion de bateria excelente.\n"
     ]
    }
   ],
   "source": [
    "from selenium import webdriver\n",
    "from selenium.webdriver.chrome.service import Service\n",
    "from selenium.webdriver.common.by import By\n",
    "from selenium.common.exceptions import NoSuchElementException, ElementClickInterceptedException\n",
    "from bs4 import BeautifulSoup\n",
    "import time\n",
    "\n",
    "# Configura el controlador de Chrome con Service\n",
    "driver_path = 'D:\\Documents\\Scrapping Sentimientos Project\\Project_repository\\\\chromedriver.exe'  # Ruta completa a tu ChromeDriver\n",
    "service = Service(driver_path)\n",
    "driver = webdriver.Chrome(service=service)\n",
    "\n",
    "# URL de la página\n",
    "url = 'https://www.mercadolibre.com.co/xiaomi-redmi-note-13-pro-4g-dual-sim-256-gb-purpura-8-gb-ram/p/MCO35734320?pdp_filters=deal%3AMCO1072578-1'\n",
    "driver.get(url)\n",
    "\n",
    "# Espera inicial para cargar la página\n",
    "time.sleep(25)\n",
    "\n",
    "# Paso 1: Haz clic en el botón \"Mostrar todas las opiniones\" para abrir la ventana emergente\n",
    "try:\n",
    "    load_more_button = driver.find_element(By.CSS_SELECTOR, 'button.show-more-click[data-testid=\"see-more\"]')\n",
    "    driver.execute_script(\"arguments[0].scrollIntoView();\", load_more_button)  # Desplaza hasta el botón\n",
    "    time.sleep(1)\n",
    "    driver.execute_script(\"arguments[0].click();\", load_more_button)  # Haz clic en el botón\n",
    "    time.sleep(3)  # Espera para que la ventana emergente de comentarios se abra\n",
    "except (NoSuchElementException, ElementClickInterceptedException) as e:\n",
    "    print(\"No se encontró o no se pudo hacer clic en el botón de 'Mostrar todas las opiniones'.\", e)\n",
    "\n",
    "# Paso 2: Encuentra el contenedor específico de comentarios\n",
    "try:\n",
    "    comments_container = driver.find_element(By.CSS_SELECTOR, 'section[data-testid=\"reviews-desktop\"]')\n",
    "except NoSuchElementException:\n",
    "    print(\"No se encontró el contenedor de comentarios.\")\n",
    "    driver.quit()\n",
    "    exit()\n",
    "\n",
    "# Paso 3: Desplazamiento progresivo dentro del contenedor de comentarios para cargar todos los bloques de comentarios\n",
    "scroll_pause_time = 2\n",
    "last_height = driver.execute_script(\"return arguments[0].scrollHeight\", comments_container)\n",
    "\n",
    "while True:\n",
    "    # Desplaza dentro del contenedor de comentarios\n",
    "    driver.execute_script(\"arguments[0].scrollTop = arguments[0].scrollHeight\", comments_container)\n",
    "    time.sleep(scroll_pause_time)\n",
    "\n",
    "    # Calcula la nueva altura de desplazamiento del contenedor\n",
    "    new_height = driver.execute_script(\"return arguments[0].scrollHeight\", comments_container)\n",
    "    if new_height == last_height:\n",
    "        # Si la altura no cambia, ya no hay más comentarios para cargar\n",
    "        break\n",
    "    last_height = new_height\n",
    "\n",
    "# Paso 4: Extrae los comentarios de la página completamente cargada con BeautifulSoup\n",
    "soup = BeautifulSoup(driver.page_source, 'html.parser')\n",
    "comment_elements = soup.find_all('p', class_='ui-review-capability-comments__comment__content')\n",
    "comments = [comment.get_text(strip=True) for comment in comment_elements]\n",
    "\n",
    "# Imprime los comentarios extraídos\n",
    "for idx, comment in enumerate(comments, 1):\n",
    "    print(f\"Comentario {idx}: {comment}\")\n",
    "\n",
    "# Cierra el navegador\n",
    "driver.quit()"
   ]
  },
  {
   "cell_type": "code",
   "execution_count": null,
   "metadata": {},
   "outputs": [],
   "source": []
  },
  {
   "cell_type": "code",
   "execution_count": 2,
   "metadata": {},
   "outputs": [
    {
     "name": "stdout",
     "output_type": "stream",
     "text": [
      "Collecting python-docxNote: you may need to restart the kernel to use updated packages.\n",
      "\n",
      "  Downloading python_docx-1.1.2-py3-none-any.whl (244 kB)\n",
      "     -------------------------------------- 244.3/244.3 KB 5.1 MB/s eta 0:00:00\n",
      "Collecting lxml>=3.1.0\n",
      "  Downloading lxml-5.3.0-cp310-cp310-win_amd64.whl (3.8 MB)\n",
      "     ---------------------------------------- 3.8/3.8 MB 10.1 MB/s eta 0:00:00\n",
      "Requirement already satisfied: typing-extensions>=4.9.0 in c:\\users\\asus\\appdata\\roaming\\python\\python310\\site-packages (from python-docx) (4.12.2)\n",
      "Installing collected packages: lxml, python-docx\n",
      "Successfully installed lxml-5.3.0 python-docx-1.1.2\n"
     ]
    },
    {
     "name": "stderr",
     "output_type": "stream",
     "text": [
      "WARNING: You are using pip version 22.0.4; however, version 24.3.1 is available.\n",
      "You should consider upgrading via the 'c:\\Users\\ASUS\\AppData\\Local\\Programs\\Python\\Python310\\python.exe -m pip install --upgrade pip' command.\n"
     ]
    }
   ],
   "source": [
    "pip install python-docx"
   ]
  },
  {
   "cell_type": "code",
   "execution_count": 5,
   "metadata": {},
   "outputs": [
    {
     "data": {
      "text/html": [
       "<div>\n",
       "<style scoped>\n",
       "    .dataframe tbody tr th:only-of-type {\n",
       "        vertical-align: middle;\n",
       "    }\n",
       "\n",
       "    .dataframe tbody tr th {\n",
       "        vertical-align: top;\n",
       "    }\n",
       "\n",
       "    .dataframe thead th {\n",
       "        text-align: right;\n",
       "    }\n",
       "</style>\n",
       "<table border=\"1\" class=\"dataframe\">\n",
       "  <thead>\n",
       "    <tr style=\"text-align: right;\">\n",
       "      <th></th>\n",
       "      <th>Comments</th>\n",
       "    </tr>\n",
       "  </thead>\n",
       "  <tbody>\n",
       "    <tr>\n",
       "      <th>0</th>\n",
       "      <td>Está bueno y funciona bien, esperemos que no s...</td>\n",
       "    </tr>\n",
       "    <tr>\n",
       "      <th>1</th>\n",
       "      <td>Me parece un movil muy bonito, tiene un duraci...</td>\n",
       "    </tr>\n",
       "    <tr>\n",
       "      <th>2</th>\n",
       "      <td>Buen equipo, vengo de usar un redmi note 9, y ...</td>\n",
       "    </tr>\n",
       "    <tr>\n",
       "      <th>3</th>\n",
       "      <td>Espectacular , parece gama alta y la cámara , ...</td>\n",
       "    </tr>\n",
       "    <tr>\n",
       "      <th>4</th>\n",
       "      <td>Hermoso tiene una super cama.</td>\n",
       "    </tr>\n",
       "    <tr>\n",
       "      <th>...</th>\n",
       "      <td>...</td>\n",
       "    </tr>\n",
       "    <tr>\n",
       "      <th>205</th>\n",
       "      <td>He estado utilizando mi nuevo celular xiaomi d...</td>\n",
       "    </tr>\n",
       "    <tr>\n",
       "      <th>206</th>\n",
       "      <td>El producto salió defectuoso, se procederá a d...</td>\n",
       "    </tr>\n",
       "    <tr>\n",
       "      <th>207</th>\n",
       "      <td>Bueno, viene con cargador europeo y con el ada...</td>\n",
       "    </tr>\n",
       "    <tr>\n",
       "      <th>208</th>\n",
       "      <td>Muy mala señal.</td>\n",
       "    </tr>\n",
       "    <tr>\n",
       "      <th>209</th>\n",
       "      <td>Bueno.</td>\n",
       "    </tr>\n",
       "  </tbody>\n",
       "</table>\n",
       "<p>210 rows × 1 columns</p>\n",
       "</div>"
      ],
      "text/plain": [
       "                                              Comments\n",
       "0    Está bueno y funciona bien, esperemos que no s...\n",
       "1    Me parece un movil muy bonito, tiene un duraci...\n",
       "2    Buen equipo, vengo de usar un redmi note 9, y ...\n",
       "3    Espectacular , parece gama alta y la cámara , ...\n",
       "4                        Hermoso tiene una super cama.\n",
       "..                                                 ...\n",
       "205  He estado utilizando mi nuevo celular xiaomi d...\n",
       "206  El producto salió defectuoso, se procederá a d...\n",
       "207  Bueno, viene con cargador europeo y con el ada...\n",
       "208                                    Muy mala señal.\n",
       "209                                             Bueno.\n",
       "\n",
       "[210 rows x 1 columns]"
      ]
     },
     "execution_count": 5,
     "metadata": {},
     "output_type": "execute_result"
    }
   ],
   "source": [
    "from bs4 import BeautifulSoup\n",
    "from docx import Document\n",
    "import pandas as pd\n",
    "\n",
    "# Asegúrate de instalar las bibliotecas necesarias\n",
    "# pip install python-docx beautifulsoup4 pandas\n",
    "\n",
    "# Ruta del archivo\n",
    "file_path = r\"D:\\Documents\\Scrapping Sentimientos Project\\Submuestra HTML.docx\"\n",
    "\n",
    "# Leer el contenido del documento .docx\n",
    "doc = Document(file_path)\n",
    "html_content = \"\\n\".join([paragraph.text for paragraph in doc.paragraphs])\n",
    "\n",
    "# Analizar el contenido HTML con BeautifulSoup\n",
    "soup = BeautifulSoup(html_content, 'html.parser')\n",
    "\n",
    "# Buscar todos los comentarios en los elementos <p> con la clase específica\n",
    "comments = soup.find_all('p', class_='ui-review-capability-comments__comment__content')\n",
    "\n",
    "# Extraer el texto de cada comentario\n",
    "extracted_comments = [comment.get_text(strip=True) for comment in comments]\n",
    "\n",
    "# Crear un DataFrame con la columna \"Comments\"\n",
    "df = pd.DataFrame({'Comments': extracted_comments})\n",
    "df"
   ]
  }
 ],
 "metadata": {
  "kernelspec": {
   "display_name": "Python 3",
   "language": "python",
   "name": "python3"
  },
  "language_info": {
   "codemirror_mode": {
    "name": "ipython",
    "version": 3
   },
   "file_extension": ".py",
   "mimetype": "text/x-python",
   "name": "python",
   "nbconvert_exporter": "python",
   "pygments_lexer": "ipython3",
   "version": "3.10.3"
  }
 },
 "nbformat": 4,
 "nbformat_minor": 2
}
